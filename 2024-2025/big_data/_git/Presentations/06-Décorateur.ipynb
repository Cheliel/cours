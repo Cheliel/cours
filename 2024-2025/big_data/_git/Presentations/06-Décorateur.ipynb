{
 "cells": [
  {
   "cell_type": "code",
   "execution_count": 28,
   "metadata": {
    "ExecuteTime": {
     "end_time": "2020-09-26T16:51:54.042865Z",
     "start_time": "2020-09-26T16:51:54.031486Z"
    }
   },
   "outputs": [
    {
     "name": "stdout",
     "output_type": "stream",
     "text": [
      "hello\n"
     ]
    },
    {
     "data": {
      "text/plain": [
       "<function __main__.clock.<locals>.clocked(*args)>"
      ]
     },
     "execution_count": 28,
     "metadata": {},
     "output_type": "execute_result"
    }
   ],
   "source": [
    "import time\n",
    "\n",
    "def clock(func):\n",
    "    def clocked(*args): \n",
    "        print(*args)\n",
    "        t0 = time.perf_counter()\n",
    "        result = func(*args) \n",
    "        elapsed = time.perf_counter() - t0\n",
    "        name = func.__name__\n",
    "        arg_str = ', '.join(repr(arg) for arg in args)\n",
    "        print('execution [%0.8fs] %s(%s) -> %r' % (elapsed, name, arg_str, result))\n",
    "        return result\n",
    "    return clocked \n",
    "\n",
    "\n"
   ]
  },
  {
   "cell_type": "code",
   "execution_count": 2,
   "metadata": {
    "ExecuteTime": {
     "end_time": "2020-09-26T16:51:54.210516Z",
     "start_time": "2020-09-26T16:51:54.046343Z"
    }
   },
   "outputs": [
    {
     "name": "stdout",
     "output_type": "stream",
     "text": [
      "**************************************** Calling snooze(.123)\n",
      "0.123\n",
      "execution [0.12587374s] snooze(0.123) -> None\n",
      "**************************************** Calling factorial(6)\n",
      "6\n",
      "5\n",
      "4\n",
      "3\n",
      "2\n",
      "1\n",
      "execution [0.00000044s] factorial1(1) -> 1\n",
      "execution [0.00001893s] factorial1(2) -> 2\n",
      "execution [0.00003273s] factorial1(3) -> 6\n",
      "execution [0.00004446s] factorial1(4) -> 24\n",
      "execution [0.00005563s] factorial1(5) -> 120\n",
      "execution [0.00006823s] factorial1(6) -> 720\n",
      "6! = 720\n"
     ]
    },
    {
     "data": {
      "text/plain": [
       "'clocked'"
      ]
     },
     "execution_count": 2,
     "metadata": {},
     "output_type": "execute_result"
    }
   ],
   "source": [
    "@clock\n",
    "def snooze(seconds):\n",
    "    time.sleep(seconds)\n",
    "\n",
    "@clock\n",
    "def factorial1(n):\n",
    "    return 1 if n < 2 else n*factorial1(n-1)\n",
    "\n",
    "print('*' * 40, 'Calling snooze(.123)')\n",
    "snooze(.123)\n",
    "print('*' * 40, 'Calling factorial(6)')\n",
    "print('6! =', factorial1(6))\n",
    "\n",
    "factorial1.__name__"
   ]
  },
  {
   "cell_type": "markdown",
   "metadata": {},
   "source": [
    "# La suite de Fibonacci\n",
    "<br>\n",
    "$F_0 = 0 $\n",
    "<br>\n",
    "$F_1 = 1 $\n",
    "<br>\n",
    "$F_n = F_{n-2}+F_{n-1}$ pour $n ≥ 2$"
   ]
  },
  {
   "cell_type": "code",
   "execution_count": 3,
   "metadata": {
    "ExecuteTime": {
     "end_time": "2020-09-26T16:51:54.257927Z",
     "start_time": "2020-09-26T16:51:54.217765Z"
    }
   },
   "outputs": [
    {
     "name": "stdout",
     "output_type": "stream",
     "text": [
      "6\n",
      "4\n",
      "2\n",
      "0\n",
      "execution [0.00000099s] fibonacci(0) -> 0\n",
      "1\n",
      "execution [0.00000091s] fibonacci(1) -> 1\n",
      "execution [0.00014269s] fibonacci(2) -> 1\n",
      "3\n",
      "1\n",
      "execution [0.00000045s] fibonacci(1) -> 1\n",
      "2\n",
      "0\n",
      "execution [0.00000052s] fibonacci(0) -> 0\n",
      "1\n",
      "execution [0.00000067s] fibonacci(1) -> 1\n",
      "execution [0.00015632s] fibonacci(2) -> 1\n",
      "execution [0.00020260s] fibonacci(3) -> 2\n",
      "execution [0.00038484s] fibonacci(4) -> 3\n",
      "5\n",
      "3\n",
      "1\n",
      "execution [0.00000038s] fibonacci(1) -> 1\n",
      "2\n",
      "0\n",
      "execution [0.00000021s] fibonacci(0) -> 0\n",
      "1\n",
      "execution [0.00000021s] fibonacci(1) -> 1\n",
      "execution [0.00002490s] fibonacci(2) -> 1\n",
      "execution [0.00005943s] fibonacci(3) -> 2\n",
      "4\n",
      "2\n",
      "0\n",
      "execution [0.00000023s] fibonacci(0) -> 0\n",
      "1\n",
      "execution [0.00000018s] fibonacci(1) -> 1\n",
      "execution [0.00002517s] fibonacci(2) -> 1\n",
      "3\n",
      "1\n",
      "execution [0.00000020s] fibonacci(1) -> 1\n",
      "2\n",
      "0\n",
      "execution [0.00000019s] fibonacci(0) -> 0\n",
      "1\n",
      "execution [0.00000024s] fibonacci(1) -> 1\n",
      "execution [0.00004005s] fibonacci(2) -> 1\n",
      "execution [0.00006486s] fibonacci(3) -> 2\n",
      "execution [0.00011184s] fibonacci(4) -> 3\n",
      "execution [0.00019789s] fibonacci(5) -> 5\n",
      "execution [0.00357472s] fibonacci(6) -> 8\n",
      "8\n"
     ]
    }
   ],
   "source": [
    "@clock\n",
    "def fibonacci(n):\n",
    "    if n < 2:\n",
    "        return n\n",
    "    return fibonacci(n-2) + fibonacci(n-1)\n",
    "\n",
    "print(fibonacci(6))"
   ]
  },
  {
   "cell_type": "code",
   "execution_count": 4,
   "metadata": {
    "ExecuteTime": {
     "end_time": "2020-09-26T16:52:08.764378Z",
     "start_time": "2020-09-26T16:52:08.756483Z"
    }
   },
   "outputs": [
    {
     "name": "stdout",
     "output_type": "stream",
     "text": [
      "12\n",
      "10\n",
      "8\n",
      "6\n",
      "4\n",
      "2\n",
      "0\n",
      "execution [0.00000035s] fibonacci(0) -> 0\n",
      "1\n",
      "execution [0.00000091s] fibonacci(1) -> 1\n",
      "execution [0.00003355s] fibonacci(2) -> 1\n",
      "3\n",
      "execution [0.00000068s] fibonacci(3) -> 2\n",
      "execution [0.00005701s] fibonacci(4) -> 3\n",
      "5\n",
      "execution [0.00000047s] fibonacci(5) -> 5\n",
      "execution [0.00007898s] fibonacci(6) -> 8\n",
      "7\n",
      "execution [0.00000053s] fibonacci(7) -> 13\n",
      "execution [0.00010142s] fibonacci(8) -> 21\n",
      "9\n",
      "execution [0.00000044s] fibonacci(9) -> 34\n",
      "execution [0.00012443s] fibonacci(10) -> 55\n",
      "11\n",
      "execution [0.00000049s] fibonacci(11) -> 89\n",
      "execution [0.00015036s] fibonacci(12) -> 144\n",
      "144\n"
     ]
    }
   ],
   "source": [
    "import functools\n",
    "\n",
    "@functools.lru_cache() \n",
    "\n",
    "@clock #\n",
    "def fibonacci(n):\n",
    "    if n < 2:\n",
    "        return n\n",
    "    return fibonacci(n-2) + fibonacci(n-1)\n",
    "\n",
    "print(fibonacci(12))"
   ]
  },
  {
   "cell_type": "code",
   "execution_count": 5,
   "metadata": {
    "ExecuteTime": {
     "end_time": "2020-09-26T16:52:08.793842Z",
     "start_time": "2020-09-26T16:52:08.768509Z"
    }
   },
   "outputs": [],
   "source": [
    "class NbAppels(object):\n",
    "    def __init__(self, f):\n",
    "        self.f = f\n",
    "        self.appels = 0\n",
    "    def __call__(self, *args):\n",
    "        self.appels += 1\n",
    "        print (\"{}: {} appels\".format(self.f.__name__, self.appels))\n",
    "        return self.f(*args)"
   ]
  },
  {
   "cell_type": "code",
   "execution_count": 6,
   "metadata": {
    "ExecuteTime": {
     "end_time": "2020-09-26T16:52:08.809341Z",
     "start_time": "2020-09-26T16:52:08.797078Z"
    }
   },
   "outputs": [],
   "source": [
    "def factorielle(n):\n",
    "        if n == 0 : return 1\n",
    "        else : return n * factorielle(n-1)"
   ]
  },
  {
   "cell_type": "code",
   "execution_count": 7,
   "metadata": {
    "ExecuteTime": {
     "end_time": "2020-09-26T16:52:08.840530Z",
     "start_time": "2020-09-26T16:52:08.813210Z"
    }
   },
   "outputs": [
    {
     "name": "stdout",
     "output_type": "stream",
     "text": [
      "factorielle: 1 appels\n",
      "factorielle: 2 appels\n",
      "factorielle: 3 appels\n",
      "factorielle: 4 appels\n",
      "factorielle: 5 appels\n",
      "factorielle: 6 appels\n",
      "factorielle: 7 appels\n",
      "factorielle: 8 appels\n",
      "factorielle: 9 appels\n",
      "factorielle: 10 appels\n",
      "factorielle: 11 appels\n"
     ]
    },
    {
     "data": {
      "text/plain": [
       "3628800"
      ]
     },
     "execution_count": 7,
     "metadata": {},
     "output_type": "execute_result"
    }
   ],
   "source": [
    "factorielle = NbAppels(factorielle)\n",
    "factorielle(10) "
   ]
  },
  {
   "cell_type": "code",
   "execution_count": 8,
   "metadata": {
    "ExecuteTime": {
     "end_time": "2020-09-26T16:52:08.856289Z",
     "start_time": "2020-09-26T16:52:08.843500Z"
    }
   },
   "outputs": [],
   "source": [
    "class NbAppels1(object):\n",
    "    def __init__(self, f):\n",
    "        self.f = f\n",
    "        self.appels = 0\n",
    "    def __call__(self, *args):\n",
    "        self.appels += 1\n",
    "        print (\"{}: {} appels\".format(self.f.__name__, self.appels))\n",
    "        return self.f(*args)"
   ]
  },
  {
   "cell_type": "code",
   "execution_count": 9,
   "metadata": {
    "ExecuteTime": {
     "end_time": "2020-09-26T16:52:08.871746Z",
     "start_time": "2020-09-26T16:52:08.859786Z"
    }
   },
   "outputs": [],
   "source": [
    "@NbAppels1        \n",
    "def factorielle1(n):\n",
    "        if n == 0 : return 1\n",
    "        else : return n * factorielle1(n-1)"
   ]
  },
  {
   "cell_type": "code",
   "execution_count": 10,
   "metadata": {
    "ExecuteTime": {
     "end_time": "2020-09-26T16:52:08.903323Z",
     "start_time": "2020-09-26T16:52:08.874703Z"
    }
   },
   "outputs": [
    {
     "name": "stdout",
     "output_type": "stream",
     "text": [
      "factorielle1: 1 appels\n",
      "factorielle1: 2 appels\n",
      "factorielle1: 3 appels\n",
      "factorielle1: 4 appels\n",
      "factorielle1: 5 appels\n",
      "factorielle1: 6 appels\n",
      "factorielle1: 7 appels\n",
      "factorielle1: 8 appels\n",
      "factorielle1: 9 appels\n",
      "factorielle1: 10 appels\n",
      "factorielle1: 11 appels\n"
     ]
    },
    {
     "data": {
      "text/plain": [
       "3628800"
      ]
     },
     "execution_count": 10,
     "metadata": {},
     "output_type": "execute_result"
    }
   ],
   "source": [
    "factorielle1(10)  "
   ]
  },
  {
   "cell_type": "code",
   "execution_count": 11,
   "metadata": {
    "ExecuteTime": {
     "end_time": "2020-09-26T16:52:08.918537Z",
     "start_time": "2020-09-26T16:52:08.908126Z"
    }
   },
   "outputs": [],
   "source": [
    "enregistrement = set()\n",
    "\n",
    "def enregistrer(activation=True):\n",
    "    def decoration(fonction):\n",
    "        print('executer enregistrement(activation=%s)->decoration(%s)'\n",
    "                 % (activation, fonction))\n",
    "        if activation:\n",
    "            enregistrement.add(fonction)\n",
    "        else:\n",
    "            enregistrement.discard(fonction)\n",
    "        return fonction\n",
    "    return decoration"
   ]
  },
  {
   "cell_type": "code",
   "execution_count": 12,
   "metadata": {
    "ExecuteTime": {
     "end_time": "2020-09-26T16:52:08.949700Z",
     "start_time": "2020-09-26T16:52:08.921666Z"
    }
   },
   "outputs": [
    {
     "name": "stdout",
     "output_type": "stream",
     "text": [
      "executer enregistrement(activation=False)->decoration(<function f1 at 0x1118f2340>)\n",
      "executer enregistrement(activation=True)->decoration(<function f2 at 0x1118f2ac0>)\n"
     ]
    }
   ],
   "source": [
    "@enregistrer(activation=False)\n",
    "def f1():\n",
    "    print('running f1()')\n",
    "\n",
    "@enregistrer()\n",
    "def f2():\n",
    "    print('running f2()')\n",
    "    \n",
    "def f3():\n",
    "    print('running f3()')"
   ]
  },
  {
   "cell_type": "code",
   "execution_count": 13,
   "metadata": {
    "ExecuteTime": {
     "end_time": "2020-09-26T16:52:08.965430Z",
     "start_time": "2020-09-26T16:52:08.952570Z"
    }
   },
   "outputs": [
    {
     "data": {
      "text/plain": [
       "{<function __main__.f2()>}"
      ]
     },
     "execution_count": 13,
     "metadata": {},
     "output_type": "execute_result"
    }
   ],
   "source": [
    "enregistrement"
   ]
  },
  {
   "cell_type": "code",
   "execution_count": 14,
   "metadata": {
    "ExecuteTime": {
     "end_time": "2020-09-26T16:52:08.981485Z",
     "start_time": "2020-09-26T16:52:08.968361Z"
    }
   },
   "outputs": [
    {
     "name": "stdout",
     "output_type": "stream",
     "text": [
      "executer enregistrement(activation=True)->decoration(<function f3 at 0x1118f2a20>)\n"
     ]
    },
    {
     "data": {
      "text/plain": [
       "<function __main__.f3()>"
      ]
     },
     "execution_count": 14,
     "metadata": {},
     "output_type": "execute_result"
    }
   ],
   "source": [
    "enregistrer()(f3) "
   ]
  },
  {
   "cell_type": "code",
   "execution_count": 15,
   "metadata": {
    "ExecuteTime": {
     "end_time": "2020-09-26T16:52:09.013001Z",
     "start_time": "2020-09-26T16:52:08.984509Z"
    }
   },
   "outputs": [
    {
     "data": {
      "text/plain": [
       "{<function __main__.f2()>, <function __main__.f3()>}"
      ]
     },
     "execution_count": 15,
     "metadata": {},
     "output_type": "execute_result"
    }
   ],
   "source": [
    "enregistrement "
   ]
  },
  {
   "cell_type": "code",
   "execution_count": 16,
   "metadata": {
    "ExecuteTime": {
     "end_time": "2020-09-26T16:52:09.029063Z",
     "start_time": "2020-09-26T16:52:09.016556Z"
    }
   },
   "outputs": [
    {
     "name": "stdout",
     "output_type": "stream",
     "text": [
      "executer enregistrement(activation=False)->decoration(<function f2 at 0x1118f2ac0>)\n"
     ]
    },
    {
     "data": {
      "text/plain": [
       "<function __main__.f2()>"
      ]
     },
     "execution_count": 16,
     "metadata": {},
     "output_type": "execute_result"
    }
   ],
   "source": [
    "enregistrer(activation=False)(f2) "
   ]
  },
  {
   "cell_type": "code",
   "execution_count": 17,
   "metadata": {
    "ExecuteTime": {
     "end_time": "2020-09-26T16:52:09.044869Z",
     "start_time": "2020-09-26T16:52:09.032101Z"
    }
   },
   "outputs": [
    {
     "data": {
      "text/plain": [
       "<function __main__.enregistrer(activation=True)>"
      ]
     },
     "execution_count": 17,
     "metadata": {},
     "output_type": "execute_result"
    }
   ],
   "source": [
    "enregistrer"
   ]
  },
  {
   "cell_type": "code",
   "execution_count": 18,
   "metadata": {
    "ExecuteTime": {
     "end_time": "2020-09-26T16:52:09.075921Z",
     "start_time": "2020-09-26T16:52:09.047565Z"
    }
   },
   "outputs": [],
   "source": [
    "import time\n",
    "\n",
    "DEFAULT_FMT = '[{elapsed:0.8f}s] {name}({args}) -> {result}'\n",
    "\n",
    "def clock(fmt=DEFAULT_FMT):\n",
    "    def decorate(func):\n",
    "        def clocked(*_args):\n",
    "            t0 = time.time()\n",
    "            _result = func(*_args)\n",
    "            elapsed = time.time() - t0\n",
    "            name = func.__name__\n",
    "            args = ', '.join(repr(arg) for arg in _args)\n",
    "            result = repr(_result)\n",
    "            print(fmt.format(**locals()))\n",
    "            return _result\n",
    "        return clocked\n",
    "    return decorate"
   ]
  },
  {
   "cell_type": "code",
   "execution_count": 19,
   "metadata": {
    "ExecuteTime": {
     "end_time": "2020-09-26T16:52:09.091216Z",
     "start_time": "2020-09-26T16:52:09.079196Z"
    }
   },
   "outputs": [],
   "source": [
    "@clock()\n",
    "def snooze(seconds):\n",
    "    time.sleep(seconds)"
   ]
  },
  {
   "cell_type": "code",
   "execution_count": 20,
   "metadata": {
    "ExecuteTime": {
     "end_time": "2020-09-26T16:52:09.507277Z",
     "start_time": "2020-09-26T16:52:09.094659Z"
    }
   },
   "outputs": [
    {
     "name": "stdout",
     "output_type": "stream",
     "text": [
      "[0.12361383s] snooze(0.123) -> None\n"
     ]
    },
    {
     "name": "stdout",
     "output_type": "stream",
     "text": [
      "[0.12378597s] snooze(0.123) -> None\n",
      "[0.14483690s] snooze(0.123) -> None\n"
     ]
    }
   ],
   "source": [
    "for i in range(3):\n",
    "    snooze(.123)"
   ]
  },
  {
   "cell_type": "code",
   "execution_count": 21,
   "metadata": {},
   "outputs": [],
   "source": [
    "DEFAULT_FMT = '[{elapsed:0.8f}s] {name}({args}) -> {result}'\n",
    "\n",
    "def clock(fmt=DEFAULT_FMT):\n",
    "    def decorate(func):\n",
    "        def clocked(*_args, **_kwargs):\n",
    "            t0 = time.time()\n",
    "            _result = func(*_args, **_kwargs)\n",
    "            elapsed = time.time() - t0\n",
    "            name = func.__name__\n",
    "            args = ', '.join(repr(arg) for arg in _args) if len(_args) == 1 else ', '.join(arg+'='+repr(_kwargs[arg]) for arg in _kwargs)\n",
    "            result = repr(_result)\n",
    "            print(fmt.format(**locals()))\n",
    "            return _result\n",
    "        return clocked\n",
    "    return decorate"
   ]
  },
  {
   "cell_type": "code",
   "execution_count": 22,
   "metadata": {},
   "outputs": [],
   "source": [
    "@clock()\n",
    "def snooze(seconds):\n",
    "    time.sleep(seconds)"
   ]
  },
  {
   "cell_type": "code",
   "execution_count": 23,
   "metadata": {},
   "outputs": [
    {
     "name": "stdout",
     "output_type": "stream",
     "text": [
      "[0.13642192s] snooze(0.123) -> None\n",
      "[0.12728500s] snooze(0.123) -> None\n",
      "[0.12333226s] snooze(0.123) -> None\n"
     ]
    }
   ],
   "source": [
    "for i in range(3): snooze(.123)"
   ]
  },
  {
   "cell_type": "code",
   "execution_count": 24,
   "metadata": {},
   "outputs": [
    {
     "name": "stdout",
     "output_type": "stream",
     "text": [
      "[0.12315702s] snooze(seconds=0.123) -> None\n",
      "[0.12634492s] snooze(seconds=0.123) -> None\n",
      "[0.12354589s] snooze(seconds=0.123) -> None\n"
     ]
    }
   ],
   "source": [
    "for i in range(3): snooze(seconds=.123)"
   ]
  },
  {
   "cell_type": "code",
   "execution_count": 25,
   "metadata": {},
   "outputs": [],
   "source": [
    "@clock()\n",
    "def snooze(seconds,message):\n",
    "    time.sleep(seconds)\n",
    "    return message"
   ]
  },
  {
   "cell_type": "code",
   "execution_count": 26,
   "metadata": {},
   "outputs": [
    {
     "name": "stdout",
     "output_type": "stream",
     "text": [
      "[0.00001526s] snooze(seconds=0.0, message='execution 1') -> 'execution 1'\n"
     ]
    },
    {
     "name": "stdout",
     "output_type": "stream",
     "text": [
      "[0.12318826s] snooze(seconds=0.123, message='execution 2') -> 'execution 2'\n",
      "[0.24929714s] snooze(seconds=0.246, message='execution 3') -> 'execution 3'\n",
      "[0.37168312s] snooze(seconds=0.369, message='execution 4') -> 'execution 4'\n",
      "[0.49434400s] snooze(seconds=0.492, message='execution 5') -> 'execution 5'\n"
     ]
    }
   ],
   "source": [
    "for i in range(5): snooze(seconds=.123*i,message=f'execution {i+1}')"
   ]
  }
 ],
 "metadata": {
  "kernelspec": {
   "display_name": "Python 3 (ipykernel)",
   "language": "python",
   "name": "python3"
  },
  "language_info": {
   "codemirror_mode": {
    "name": "ipython",
    "version": 3
   },
   "file_extension": ".py",
   "mimetype": "text/x-python",
   "name": "python",
   "nbconvert_exporter": "python",
   "pygments_lexer": "ipython3",
   "version": "3.11.0"
  }
 },
 "nbformat": 4,
 "nbformat_minor": 4
}
