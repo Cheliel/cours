{
 "cells": [
  {
   "cell_type": "markdown",
   "metadata": {},
   "source": [
    "# Creation d'un module dynamiquement"
   ]
  },
  {
   "cell_type": "code",
   "execution_count": 1,
   "metadata": {
    "ExecuteTime": {
     "end_time": "2020-09-27T20:09:08.983959Z",
     "start_time": "2020-09-27T20:09:08.979970Z"
    }
   },
   "outputs": [],
   "source": [
    "import os\n",
    "contenuFichier = \"\"\"\n",
    "# -*- coding:utf8 -*-\n",
    "def main():\n",
    "    print(__name__)\n",
    "\n",
    "def changerRepertoire(nomRep = \"./donnees\"):\n",
    "    from os import mkdir, chdir, getcwd,path\n",
    "    if not path.isdir(nomRep):\n",
    "        mkdir(nomRep)\n",
    "\n",
    "    chdir(nomRep)\n",
    "    rep_cour = getcwd()\n",
    "    print(rep_cour)\n",
    "\n",
    "\n",
    "if __name__ == '__main__' :\n",
    "    main()\n",
    "else :\n",
    "    print ('autre appel')\n",
    "\"\"\""
   ]
  },
  {
   "cell_type": "code",
   "execution_count": 2,
   "metadata": {
    "ExecuteTime": {
     "end_time": "2020-09-27T20:09:09.934889Z",
     "start_time": "2020-09-27T20:09:09.929902Z"
    }
   },
   "outputs": [
    {
     "name": "stdout",
     "output_type": "stream",
     "text": [
      "\n",
      "# -*- coding:utf8 -*-\n",
      "def main():\n",
      "    print(__name__)\n",
      "\n",
      "def changerRepertoire(nomRep = \"./donnees\"):\n",
      "    from os import mkdir, chdir, getcwd,path\n",
      "    if not path.isdir(nomRep):\n",
      "        mkdir(nomRep)\n",
      "\n",
      "    chdir(nomRep)\n",
      "    rep_cour = getcwd()\n",
      "    print(rep_cour)\n",
      "\n",
      "\n",
      "if __name__ == '__main__' :\n",
      "    main()\n",
      "else :\n",
      "    print ('autre appel')\n",
      "\n"
     ]
    }
   ],
   "source": [
    "print(contenuFichier)"
   ]
  },
  {
   "cell_type": "code",
   "execution_count": 3,
   "metadata": {},
   "outputs": [
    {
     "name": "stdout",
     "output_type": "stream",
     "text": [
      "__main__\n"
     ]
    }
   ],
   "source": [
    "def main():\n",
    "    print(__name__)\n",
    "\n",
    "def changerRepertoire(nomRep = \"./donnees\"):\n",
    "    from os import mkdir, chdir, getcwd,path\n",
    "    if not path.isdir(nomRep):\n",
    "        mkdir(nomRep)\n",
    "\n",
    "    chdir(nomRep)\n",
    "    rep_cour = getcwd()\n",
    "    print(rep_cour)\n",
    "\n",
    "\n",
    "if __name__ == '__main__' :\n",
    "    main()\n",
    "else :\n",
    "    print ('autre appel')"
   ]
  },
  {
   "cell_type": "code",
   "execution_count": 4,
   "metadata": {},
   "outputs": [
    {
     "data": {
      "text/plain": [
       "'\\n# -*- coding:utf8 -*-\\ndef main():\\n    print(__name__)\\n\\ndef changerRepertoire(nomRep = \"./donnees\"):\\n    from os import mkdir, chdir, getcwd,path\\n    if not path.isdir(nomRep):\\n        mkdir(nomRep)\\n\\n    chdir(nomRep)\\n    rep_cour = getcwd()\\n    print(rep_cour)\\n\\n\\nif __name__ == \\'__main__\\' :\\n    main()\\nelse :\\n    print (\\'autre appel\\')\\n'"
      ]
     },
     "execution_count": 4,
     "metadata": {},
     "output_type": "execute_result"
    }
   ],
   "source": [
    "contenuFichier"
   ]
  },
  {
   "cell_type": "code",
   "execution_count": 5,
   "metadata": {},
   "outputs": [
    {
     "data": {
      "text/plain": [
       "'/Users/cheliel/Documents/CCI/2023-2024/CCI-hub/cours/2024-2025/big_data/_git/Presentations'"
      ]
     },
     "execution_count": 5,
     "metadata": {},
     "output_type": "execute_result"
    }
   ],
   "source": [
    "os.getcwd()"
   ]
  },
  {
   "cell_type": "code",
   "execution_count": 6,
   "metadata": {
    "ExecuteTime": {
     "end_time": "2019-07-08T12:44:03.416715Z",
     "start_time": "2019-07-08T12:44:03.401061Z"
    }
   },
   "outputs": [],
   "source": [
    "with open(\"./LesFichiers.py\",'w') as of:\n",
    "    of.write(contenuFichier)"
   ]
  },
  {
   "cell_type": "code",
   "execution_count": 7,
   "metadata": {
    "ExecuteTime": {
     "end_time": "2019-07-08T12:44:05.237288Z",
     "start_time": "2019-07-08T12:44:05.206202Z"
    }
   },
   "outputs": [
    {
     "name": "stdout",
     "output_type": "stream",
     "text": [
      "autre appel\n",
      "/Users/cheliel/Documents/CCI/2023-2024/CCI-hub/cours/2024-2025/big_data/_git/Presentations/donnees\n"
     ]
    }
   ],
   "source": [
    "from LesFichiers import changerRepertoire\n",
    "\n",
    "changerRepertoire()"
   ]
  },
  {
   "cell_type": "code",
   "execution_count": 8,
   "metadata": {},
   "outputs": [],
   "source": [
    "fichier = open('MonFic.txt','w')\n",
    "for i in range(0,10):\n",
    "    fichier.write(str(i)+'\\tbbb bbbbb aaaaa\\n')\n",
    "fichier.close()"
   ]
  },
  {
   "cell_type": "code",
   "execution_count": 9,
   "metadata": {
    "ExecuteTime": {
     "end_time": "2019-07-08T12:48:39.702360Z",
     "start_time": "2019-07-08T12:48:39.686740Z"
    }
   },
   "outputs": [],
   "source": [
    "with open('MonFic.txt','w') as of:\n",
    "    for i in range(0,10):\n",
    "        of.write(str(i)+'\\tbbb bbbbb aaaaa\\n')"
   ]
  },
  {
   "cell_type": "code",
   "execution_count": 10,
   "metadata": {
    "ExecuteTime": {
     "end_time": "2019-07-08T12:48:12.605201Z",
     "start_time": "2019-07-08T12:48:12.574113Z"
    }
   },
   "outputs": [
    {
     "data": {
      "text/plain": [
       "True"
      ]
     },
     "execution_count": 10,
     "metadata": {},
     "output_type": "execute_result"
    }
   ],
   "source": [
    "from os import mkdir, chdir, getcwd, path\n",
    "path.isfile('MonFic.txt')"
   ]
  },
  {
   "cell_type": "code",
   "execution_count": 11,
   "metadata": {
    "ExecuteTime": {
     "end_time": "2019-07-08T12:48:43.216274Z",
     "start_time": "2019-07-08T12:48:43.185202Z"
    }
   },
   "outputs": [
    {
     "name": "stdout",
     "output_type": "stream",
     "text": [
      "['0\\tbbb bbbbb aaaaa\\n', '1\\tbbb bbbbb aaaaa\\n', '2\\tbbb bbbbb aaaaa\\n', '3\\tbbb bbbbb aaaaa\\n', '4\\tbbb bbbbb aaaaa\\n', '5\\tbbb bbbbb aaaaa\\n', '6\\tbbb bbbbb aaaaa\\n', '7\\tbbb bbbbb aaaaa\\n', '8\\tbbb bbbbb aaaaa\\n', '9\\tbbb bbbbb aaaaa\\n']\n",
      "0\tbbb bbbbb aaaaa\n",
      "1\tbbb bbbbb aaaaa\n",
      "2\tbbb bbbbb aaaaa\n",
      "3\tbbb bbbbb aaaaa\n",
      "4\tbbb bbbbb aaaaa\n",
      "5\tbbb bbbbb aaaaa\n",
      "6\tbbb bbbbb aaaaa\n",
      "7\tbbb bbbbb aaaaa\n",
      "8\tbbb bbbbb aaaaa\n",
      "9\tbbb bbbbb aaaaa\n"
     ]
    }
   ],
   "source": [
    "from os import mkdir, chdir, getcwd, path\n",
    "\n",
    "if path.isfile('MonFic.txt'):\n",
    "    with open('MonFic.txt','r') as nomFic:\n",
    "        lines =nomFic.readlines()\n",
    "        print(lines)\n",
    "        for line in lines :\n",
    "            print(line, end='')"
   ]
  },
  {
   "cell_type": "markdown",
   "metadata": {},
   "source": [
    "# Lecture séquentielle d’un fichier"
   ]
  },
  {
   "cell_type": "code",
   "execution_count": 12,
   "metadata": {},
   "outputs": [],
   "source": [
    "with open('MonFic.txt','w') as of:\n",
    "    for i in range(0,10):\n",
    "        of.write(str(i)+'\\taaaa aaaaa aaaaa\\n')"
   ]
  },
  {
   "cell_type": "code",
   "execution_count": 13,
   "metadata": {},
   "outputs": [
    {
     "name": "stdout",
     "output_type": "stream",
     "text": [
      "['0\\taaaa aaaaa aaaaa\\n', '1\\taaaa aaaaa aaaaa\\n', '2\\taaaa aaaaa aaaaa\\n', '3\\taaaa aaaaa aaaaa\\n', '4\\taaaa aaaaa aaaaa\\n', '5\\taaaa aaaaa aaaaa\\n', '6\\taaaa aaaaa aaaaa\\n', '7\\taaaa aaaaa aaaaa\\n', '8\\taaaa aaaaa aaaaa\\n', '9\\taaaa aaaaa aaaaa\\n']\n",
      "0\taaaa aaaaa aaaaa\n",
      "1\taaaa aaaaa aaaaa\n",
      "2\taaaa aaaaa aaaaa\n",
      "3\taaaa aaaaa aaaaa\n",
      "4\taaaa aaaaa aaaaa\n",
      "5\taaaa aaaaa aaaaa\n",
      "6\taaaa aaaaa aaaaa\n",
      "7\taaaa aaaaa aaaaa\n",
      "8\taaaa aaaaa aaaaa\n",
      "9\taaaa aaaaa aaaaa\n"
     ]
    }
   ],
   "source": [
    "with open('MonFic.txt','r') as of:\n",
    "    lines =of.readlines()\n",
    "    print(lines      )\n",
    "    for line in lines :\n",
    "        print(line,end='')"
   ]
  },
  {
   "cell_type": "code",
   "execution_count": 14,
   "metadata": {},
   "outputs": [
    {
     "name": "stdout",
     "output_type": "stream",
     "text": [
      "0\taaaa aaaaa aaaaa\n",
      "1\taaaa aaaaa aaaaa\n",
      "2\taaaa aaaaa aaaaa\n",
      "3\taaaa aaaaa aaaaa\n",
      "4\taaaa aaaaa aaaaa\n",
      "5\taaaa aaaaa aaaaa\n",
      "6\taaaa aaaaa aaaaa\n",
      "7\taaaa aaaaa aaaaa\n",
      "8\taaaa aaaaa aaaaa\n",
      "9\taaaa aaaaa aaaaa\n"
     ]
    }
   ],
   "source": [
    "with open('MonFic.txt','r') as of:\n",
    "    line =of.readline()\n",
    "\n",
    "    while line:\n",
    "        print(line,end='')\n",
    "        line = of.readline()"
   ]
  },
  {
   "cell_type": "code",
   "execution_count": 15,
   "metadata": {},
   "outputs": [
    {
     "name": "stdout",
     "output_type": "stream",
     "text": [
      "[\"(0, 'noir')\\n\", \"(1, 'brun')\\n\", \"(2, 'rouge')\\n\", \"(3, 'orange')\\n\", \"(4, 'jaune')\\n\", \"(5, 'vert')\\n\", \"(6, 'bleu')\\n\", \"(7, 'violet')\\n\", \"(8, 'gris')\\n\", \"(9, 'blanc')\\n\"]\n",
      "(0, 'noir')\n",
      "(1, 'brun')\n",
      "(2, 'rouge')\n",
      "(3, 'orange')\n",
      "(4, 'jaune')\n",
      "(5, 'vert')\n",
      "(6, 'bleu')\n",
      "(7, 'violet')\n",
      "(8, 'gris')\n",
      "(9, 'blanc')\n"
     ]
    }
   ],
   "source": [
    "couleurs = ['noir', 'brun', 'rouge',\n",
    "            'orange', 'jaune', 'vert',\n",
    "            'bleu', 'violet', 'gris', 'blanc']\n",
    "with open('Couleurs.txt','w') as nomFic :\n",
    "    i = 0\n",
    "    for couleur in couleurs :\n",
    "        print((i,couleur),file=nomFic)\n",
    "        i += 1\n",
    "\n",
    "with open('Couleurs.txt','r') as nomFic :\n",
    "    lines =nomFic.readlines()\n",
    "    print(lines)\n",
    "    for line in lines :\n",
    "        print(line,end='')"
   ]
  },
  {
   "cell_type": "code",
   "execution_count": null,
   "metadata": {},
   "outputs": [],
   "source": []
  },
  {
   "cell_type": "code",
   "execution_count": null,
   "metadata": {},
   "outputs": [],
   "source": []
  },
  {
   "cell_type": "code",
   "execution_count": 16,
   "metadata": {},
   "outputs": [
    {
     "name": "stdout",
     "output_type": "stream",
     "text": [
      "(0, 'noir')\n",
      "(1, 'brun')\n",
      "(2, 'rouge')\n",
      "(3, 'orange')\n",
      "(4, 'jaune')\n",
      "(5, 'vert')\n",
      "(6, 'bleu')\n",
      "(7, 'violet')\n",
      "(8, 'gris')\n",
      "(9, 'blanc')\n"
     ]
    }
   ],
   "source": [
    "with open('Couleurs01.txt','w') as fichier1, open('Couleurs.txt','r') as fichier2:\n",
    "    line =fichier2.readline()\n",
    "    while line:\n",
    "        print(line,end='')\n",
    "        fichier1.write(line)\n",
    "        line =fichier2.readline()    "
   ]
  },
  {
   "cell_type": "code",
   "execution_count": 17,
   "metadata": {},
   "outputs": [
    {
     "name": "stdout",
     "output_type": "stream",
     "text": [
      "/Users/cheliel/Documents/CCI/2023-2024/CCI-hub/cours/2024-2025/big_data/_git/donnees\n"
     ]
    }
   ],
   "source": [
    "changerRepertoire(\"/Users/cheliel/Documents/CCI/2023-2024/CCI-hub/cours/2024-2025/big_data/_git/donnees\")\n"
   ]
  },
  {
   "cell_type": "code",
   "execution_count": 55,
   "metadata": {},
   "outputs": [
    {
     "name": "stdout",
     "output_type": "stream",
     "text": [
      "True\n"
     ]
    },
    {
     "ename": "KeyError",
     "evalue": "'\\n\\n\\n\\n'",
     "output_type": "error",
     "traceback": [
      "\u001b[0;31m---------------------------------------------------------------------------\u001b[0m",
      "\u001b[0;31mKeyError\u001b[0m                                  Traceback (most recent call last)",
      "Cell \u001b[0;32mIn[55], line 41\u001b[0m\n\u001b[1;32m     39\u001b[0m     \u001b[38;5;28;01mpass\u001b[39;00m\n\u001b[1;32m     40\u001b[0m \u001b[38;5;28;01melif\u001b[39;00m(char \u001b[38;5;241m==\u001b[39m delimiteur):\n\u001b[0;32m---> 41\u001b[0m      \u001b[38;5;28;01mif\u001b[39;00m(\u001b[43mvalues\u001b[49m\u001b[43m[\u001b[49m\u001b[43mhead\u001b[49m\u001b[43m[\u001b[49m\u001b[43mindex\u001b[49m\u001b[43m]\u001b[49m\u001b[43m]\u001b[49m):\n\u001b[1;32m     42\u001b[0m          values[head[index]]\u001b[38;5;241m.\u001b[39mappend(word)\n\u001b[1;32m     43\u001b[0m      \u001b[38;5;28;01melse\u001b[39;00m: \n",
      "\u001b[0;31mKeyError\u001b[0m: '\\n\\n\\n\\n'"
     ]
    }
   ],
   "source": [
    "\n",
    "fileName = 'synop.202309.test.csv'\n",
    "\n",
    "print(path.isfile(fileName))\n",
    "\n",
    "\n",
    "def getHeader(head, delimiteur, EOL):\n",
    "    index = 0\n",
    "    word = \"\"\n",
    "    header = []\n",
    "    for index, char in enumerate(head):\n",
    "        if(char + head[index+1] == EOL):\n",
    "            return header\n",
    "        elif(char == delimiteur):\n",
    "            header.append(word)\n",
    "            word = \"\"\n",
    "        else:\n",
    "            word += c\n",
    "\n",
    "        index+=1\n",
    "\n",
    "            \n",
    "\n",
    "\n",
    "\n",
    "\n",
    "with open(fileName,'r') as fichier: \n",
    "    head = []\n",
    "    EOL = \";;\"\n",
    "    delimiteur = \";\"\n",
    "    values = {}\n",
    "    word = \"\"\n",
    "    for index , line in enumerate(fichier.readlines()):\n",
    "        if(index == 0):\n",
    "            values = getHeader(line, delimiteur, EOL)\n",
    "        else:\n",
    "           for j, char in enumerate(line):\n",
    "               if(char + line[j+1] == EOL):\n",
    "                   word = \"\"\n",
    "                   pass\n",
    "               elif(char == delimiteur):\n",
    "                    if(values[head[index]]):\n",
    "                        values[head[index]].append(word)\n",
    "                    else: \n",
    "                       values[head[index]] = [word]\n",
    "               else:\n",
    "                   word += char\n",
    "    print(values)\n",
    "                   \n",
    "                \n",
    "\n",
    "        \n",
    "    \n",
    "    \n",
    "\n",
    "\n",
    "\n",
    "\n",
    "\n"
   ]
  },
  {
   "cell_type": "code",
   "execution_count": null,
   "metadata": {},
   "outputs": [],
   "source": [
    "# correction lecture de fichiers avec en-tête de colonne \n",
    "\n",
    "from os import mkdir, chdir, getcwd, path\n",
    "nom_fichier = r'..\\donnees\\postesSynop.csv'\n",
    "sep=';'\n",
    "dico = {}\n",
    "with open(nom_fichier,'r') as nomFic:\n",
    "    lines =nomFic.readlines()\n",
    "    for col in lines[0].split(sep):\n",
    "        dico[col] = list()\n",
    "    for ligne in lines[1:]:\n",
    "        for col,val in zip(dico.keys(),ligne.strip('\\n').split(sep)):\n",
    "            dico[col].append(val)"
   ]
  }
 ],
 "metadata": {
  "kernelspec": {
   "display_name": "Python 3 (ipykernel)",
   "language": "python",
   "name": "python3"
  },
  "language_info": {
   "codemirror_mode": {
    "name": "ipython",
    "version": 3
   },
   "file_extension": ".py",
   "mimetype": "text/x-python",
   "name": "python",
   "nbconvert_exporter": "python",
   "pygments_lexer": "ipython3",
   "version": "3.11.0"
  }
 },
 "nbformat": 4,
 "nbformat_minor": 4
}
